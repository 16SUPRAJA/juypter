{
 "cells": [
  {
   "cell_type": "code",
   "execution_count": 8,
   "id": "4fa14ac1",
   "metadata": {},
   "outputs": [
    {
     "data": {
      "text/plain": [
       "3"
      ]
     },
     "execution_count": 8,
     "metadata": {},
     "output_type": "execute_result"
    }
   ],
   "source": [
    "1+2\n"
   ]
  },
  {
   "cell_type": "markdown",
   "id": "708ae7c8",
   "metadata": {},
   "source": [
    "# uyuyij"
   ]
  },
  {
   "cell_type": "code",
   "execution_count": 1,
   "id": "0623b3e3",
   "metadata": {},
   "outputs": [
    {
     "data": {
      "text/plain": [
       "'happy birtday'"
      ]
     },
     "execution_count": 1,
     "metadata": {},
     "output_type": "execute_result"
    }
   ],
   "source": [
    "\"happy birtday\""
   ]
  },
  {
   "cell_type": "code",
   "execution_count": 2,
   "id": "b314e911",
   "metadata": {},
   "outputs": [
    {
     "data": {
      "text/plain": [
       "'udadhi'"
      ]
     },
     "execution_count": 2,
     "metadata": {},
     "output_type": "execute_result"
    }
   ],
   "source": [
    "\"udadhi\""
   ]
  },
  {
   "cell_type": "code",
   "execution_count": 3,
   "id": "532ae7af",
   "metadata": {},
   "outputs": [
    {
     "data": {
      "text/plain": [
       "'festival'"
      ]
     },
     "execution_count": 3,
     "metadata": {},
     "output_type": "execute_result"
    }
   ],
   "source": [
    "'festival'"
   ]
  }
 ],
 "metadata": {
  "kernelspec": {
   "display_name": "Python 3",
   "language": "python",
   "name": "python3"
  },
  "language_info": {
   "codemirror_mode": {
    "name": "ipython",
    "version": 3
   },
   "file_extension": ".py",
   "mimetype": "text/x-python",
   "name": "python",
   "nbconvert_exporter": "python",
   "pygments_lexer": "ipython3",
   "version": "3.8.8"
  }
 },
 "nbformat": 4,
 "nbformat_minor": 5
}
